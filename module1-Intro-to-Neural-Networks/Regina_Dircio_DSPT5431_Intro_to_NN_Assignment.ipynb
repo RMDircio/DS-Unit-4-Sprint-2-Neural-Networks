{
  "nbformat": 4,
  "nbformat_minor": 0,
  "metadata": {
    "colab": {
      "name": "Regina_Dircio_DSPT5431_Intro_to_NN_Assignment.ipynb",
      "provenance": [],
      "collapsed_sections": []
    },
    "kernelspec": {
      "display_name": "Python 3",
      "language": "python",
      "name": "python3"
    },
    "language_info": {
      "codemirror_mode": {
        "name": "ipython",
        "version": 3
      },
      "file_extension": ".py",
      "mimetype": "text/x-python",
      "name": "python",
      "nbconvert_exporter": "python",
      "pygments_lexer": "ipython3",
      "version": "3.7.6-final"
    }
  },
  "cells": [
    {
      "cell_type": "markdown",
      "metadata": {
        "colab_type": "text",
        "id": "dVfaLrjLvxvQ"
      },
      "source": [
        "<img align=\"left\" src=\"https://lever-client-logos.s3.amazonaws.com/864372b1-534c-480e-acd5-9711f850815c-1524247202159.png\" width=200>\n",
        "<br></br>\n",
        "<br></br>\n",
        "\n",
        "# Neural Networks\n",
        "\n",
        "## *Data Science Unit 4 Sprint 2 Assignment 1*"
      ]
    },
    {
      "cell_type": "markdown",
      "metadata": {
        "colab_type": "text",
        "id": "wxtoY12mwmih"
      },
      "source": [
        "## Define the Following:\n",
        "You can add image, diagrams, whatever you need to ensure that you understand the concepts below.\n",
        "\n",
        "-----------------------------------------------------\n",
        "**This article is very helpful [Towards Data Science](https://towardsdatascience.com/everything-you-need-to-know-about-neural-networks-and-backpropagation-machine-learning-made-easy-e5285bc2be3a) and [TDS: Neuron](https://towardsdatascience.com/understanding-neural-networks-from-neuron-to-rnn-cnn-and-deep-learning-cd88e90e0a90) and [TDS: Perception](https://towardsdatascience.com/what-the-hell-is-perceptron-626217814f53)**\n",
        "\n",
        "-----------------------------------------------------\n",
        "\n",
        "![Image 1:](https://miro.medium.com/max/500/1*3fA77_mLNiJTSgZFhYnU0Q.png)*Neural Network Architecture*\n",
        "\n",
        "### **Input Layer:**\n",
        ">The initial data for the neural network. Usually are noted as\n",
        "$vector X$\n",
        "        \n",
        "### **Hidden Layer:**\n",
        ">The intermediate layer between input and output layer and place where all the computation is done. Normally represent the “activation” nodes and usually are noted as\n",
        "$W$ or\n",
        "$θ$.\n",
        "        \n",
        "### **Output Layer:**\n",
        ">Produces the result for given inputs. Also known as the predicted value (or values in case of multiple output classes/types).\n",
        "\n",
        "### **Neuron:**\n",
        ">Since Nerural Networks are inspired by the human brain, the building blocks of NN are Neurons. It takes in some inputs and fires an output. In machine learning it is placeholder for a mathematical function, and its only job is to provide an output by applying the function on the inputs provided.\n",
        "\n",
        "### **Weight:**\n",
        ">Each node is connected with each node from the next layer and each connection (black arrow) has particular weight. Weight impacts the node from the next layer. Each weight can be thought of the strength of a node.\n",
        "\n",
        "![Image 2:](https://miro.medium.com/max/587/1*uz3wd5YeVYlU2JR8rE9VDA.png)*Node from Neural Network*\n",
        "\n",
        "### **Activation Function:**\n",
        ">Defines if given node should be “activated” or not based on the weighted sum. There are difference kinds of AF: Step Function, Linear Function, Sigmoid Function. They are used to map the input between the required values - (0,1) or (-1,1). Acts like a control valve. We use the dirvative of the function to update the weights.\n",
        "\n",
        "#### **Step Function:**\n",
        ">Discrete output values.\n",
        "    \n",
        "\\begin{align}\n",
        "if(z > threshold) — “activate” the node (value 1) \\\\ if(z < threshold) — don’t “activate” the node (value 0)\n",
        "\\end{align}\n",
        "\n",
        "#### **Linear Function:**\n",
        ">A range of output values. But we are not able to map any non-linear data.\n",
        "\n",
        "#### **Sigmoid Function:**\n",
        ">Most widely used.\n",
        "![Image 9](https://miro.medium.com/max/225/1*Exx_40zOAvrSV3mP6_aTcw.png)*Sigmoid Equation* <br>\n",
        "![Image 10](https://miro.medium.com/max/500/1*jSCPkJo0ZpBRA5H3JqFhQg.png)*Sigmoid Function*\n",
        "\n",
        "#### Common AF\n",
        "![Activation Functions](http://www.snee.com/bobdc.blog/img/activationfunctions.png)\n",
        "\n",
        "### **Bias Node:**\n",
        ">Critical for creating successful learning model, since it a bias value allows for shifting the Activation Function left or right. This helps get a better fit for the data, hence a better prediction function as the output. In other words, once can shift the activation function curve up or down.\n",
        "\n",
        "### **Node Map:**\n",
        ">A visual interpretation of the movement of information in Neural Networks.\n",
        "![Image 3](https://miro.medium.com/max/700/1*pR6bSQXgC1Y_lYTeLDqVqg.png)*Simple Neural Network*\n",
        "\n",
        "### **Perceptron:**\n",
        ">Perceptron is a **single layer neural network** and a **multi-layer perceptron is called Neural Networks.** It is a linear classifier - binary. Used in supervised learning to classify the data into two parts.\n",
        ">Perception has four parts:\n",
        ">1. Input values or One input layer\n",
        ">2. Weights and Bias\n",
        ">3. Net sum\n",
        ">4. Activation Function\n",
        "\n",
        "\n",
        "![Perception](https://miro.medium.com/max/700/1*n6sJ4yZQzwKL9wnF5wnVNg.png)*Perception*\n",
        "\n",
        ">**a. All the inputs x are multiplied with their weights w. Let’s call it k.** <br>\n",
        "![Inputs+Weights](https://miro.medium.com/max/700/1*_Zy1C83cnmYUdETCeQrOgA.png)>*Multiplying inputs with weights for 5 inputs*\n",
        "\n",
        ">**b. Add all the multiplied values and call them Weighted Sum.** <br>\n",
        "![Adding](https://miro.medium.com/max/528/1*xFd9VQnUM1H0kiCENsoYxg.gif)*Adding with Summation*\n",
        "\n",
        ">**c. Apply that weighted sum to the correct Activation Function.** <br>\n",
        "![Step AF](https://miro.medium.com/max/480/1*0iOzeMS3s-3LTU9hYH9ryg.png)*Step Activation Function*\n",
        "    \n",
        "![NN with pictures](https://miro.medium.com/max/700/1*eEKb2RxREV6-MtLz2DNWFQ.gif)*Cat or Dog?*"
      ]
    },
    {
      "cell_type": "markdown",
      "metadata": {
        "colab_type": "text",
        "id": "NXuy9WcWzxa4"
      },
      "source": [
        "\n",
        "## Inputs -> Outputs\n",
        "\n",
        "### Explain the flow of information through a neural network from inputs to outputs. Be sure to include: inputs, weights, bias, and activation functions. How does it all flow from beginning to end?"
      ]
    },
    {
      "cell_type": "markdown",
      "metadata": {
        "colab_type": "text",
        "id": "PlSwIJMC0A8F"
      },
      "source": [
        "#### First the data is taken in **Inputs** and then in the **Hidden Layer** the computaion is done. Finally the **Output** is given after the computation is compelte. To make this process more complex, each layer - input/hidden/output - have nodes who have given weights. These weights play an important role, they identify which nodes will activate with in the computational stage - Hidden Layer - this is done with activation functions. Bias will allow for shifts in the curve, thus creating better predictions.\n",
        "\n",
        "\\begin{align}\n",
        " y = sigmoid(\\sum(weight_{1}input_{1} + weight_{2}input_{2} + weight_{3}input_{3}) + bias)\n",
        "\\end{align}"
      ]
    },
    {
      "cell_type": "markdown",
      "metadata": {
        "colab_type": "text",
        "id": "6sWR43PTwhSk"
      },
      "source": [
        "## Write your own perceptron code that can correctly classify (99.0% accuracy) a NAND gate. \n",
        "\n",
        "| x1 | x2 | y |\n",
        "|----|----|---|\n",
        "| 0  | 0  | 1 |\n",
        "| 1  | 0  | 1 |\n",
        "| 0  | 1  | 1 |\n",
        "| 1  | 1  | 0 |"
      ]
    },
    {
      "cell_type": "code",
      "metadata": {
        "id": "PwpXCrbQUe9b",
        "colab_type": "code",
        "colab": {}
      },
      "source": [
        "import pandas as pd\n",
        "import numpy as np\n",
        "import matplotlib.pyplot as plt"
      ],
      "execution_count": 1,
      "outputs": [
        {
          "output_type": "error",
          "ename": "ModuleNotFoundError",
          "evalue": "No module named 'pandas'",
          "traceback": [
            "\u001b[0;31m---------------------------------------------------------------------------\u001b[0m",
            "\u001b[0;31mModuleNotFoundError\u001b[0m                       Traceback (most recent call last)",
            "\u001b[0;32m<ipython-input-1-b478a6fd18e5>\u001b[0m in \u001b[0;36m<module>\u001b[0;34m\u001b[0m\n\u001b[0;32m----> 1\u001b[0;31m \u001b[0;32mimport\u001b[0m \u001b[0mpandas\u001b[0m \u001b[0;32mas\u001b[0m \u001b[0mpd\u001b[0m\u001b[0;34m\u001b[0m\u001b[0;34m\u001b[0m\u001b[0m\n\u001b[0m\u001b[1;32m      2\u001b[0m \u001b[0;32mimport\u001b[0m \u001b[0mnumpy\u001b[0m \u001b[0;32mas\u001b[0m \u001b[0mnp\u001b[0m\u001b[0;34m\u001b[0m\u001b[0;34m\u001b[0m\u001b[0m\n\u001b[1;32m      3\u001b[0m \u001b[0;32mimport\u001b[0m \u001b[0mmatplotlib\u001b[0m\u001b[0;34m.\u001b[0m\u001b[0mpyplot\u001b[0m \u001b[0;32mas\u001b[0m \u001b[0mplt\u001b[0m\u001b[0;34m\u001b[0m\u001b[0;34m\u001b[0m\u001b[0m\n",
            "\u001b[0;31mModuleNotFoundError\u001b[0m: No module named 'pandas'"
          ]
        }
      ]
    },
    {
      "cell_type": "code",
      "metadata": {
        "id": "Krr_n1Q_P7Bv",
        "colab_type": "code",
        "colab": {}
      },
      "source": [
        "data = { 'x1': [0,1,0,1],\n",
        "         'x2': [0,0,1,1],\n",
        "         'y':  [1,1,1,0]\n",
        "       }\n",
        "\n",
        "df = pd.DataFrame.from_dict(data).astype('int')"
      ],
      "execution_count": null,
      "outputs": []
    },
    {
      "cell_type": "code",
      "metadata": {
        "colab_type": "code",
        "id": "Sgh7VFGwnXGH",
        "colab": {}
      },
      "source": [
        "# set up inputs\n",
        "inputs = np.array([[0, 0, 1],\n",
        "                  [1, 0, 1],\n",
        "                  [0, 1, 1],\n",
        "                  [1, 1, 0]])\n",
        "\n",
        "# set up known outputs \n",
        "correct_outputs = [[0], # should be 1st column of inputs\n",
        "                   [1],\n",
        "                   [0],\n",
        "                   [1]]\n",
        "\n",
        "weights = np.random.random((3, 4))"
      ],
      "execution_count": null,
      "outputs": []
    },
    {
      "cell_type": "code",
      "metadata": {
        "id": "Wuo-OtPKgbIj",
        "colab_type": "code",
        "colab": {
          "base_uri": "https://localhost:8080/",
          "height": 86
        },
        "outputId": "84138ec7-5145-4671-f88c-76303cfc8b77"
      },
      "source": [
        "inputs"
      ],
      "execution_count": null,
      "outputs": [
        {
          "output_type": "execute_result",
          "data": {
            "text/plain": [
              "array([[0, 0, 1],\n",
              "       [1, 0, 1],\n",
              "       [0, 1, 1],\n",
              "       [1, 1, 0]])"
            ]
          },
          "metadata": {
            "tags": []
          },
          "execution_count": 26
        }
      ]
    },
    {
      "cell_type": "code",
      "metadata": {
        "id": "q_R38DuAP7Cc",
        "colab_type": "code",
        "colab": {}
      },
      "source": [
        "# sigmoid function\n",
        "def sigmoid(x):\n",
        "  return 1 / (1+np.exp(-x))\n",
        "\n",
        "# sigmoid derivative\n",
        "def sigmoid_derivative(x):\n",
        "  sx = sigmoid(x)\n",
        "  return sx * (1-sx)"
      ],
      "execution_count": null,
      "outputs": []
    },
    {
      "cell_type": "markdown",
      "metadata": {
        "id": "xXrzICZndh7k",
        "colab_type": "text"
      },
      "source": [
        "First try "
      ]
    },
    {
      "cell_type": "code",
      "metadata": {
        "id": "DJ2pVhBGZVGo",
        "colab_type": "code",
        "colab": {}
      },
      "source": [
        "# calculate sum of inputs and weights\n",
        "weighted_sum = np.dot(inputs, weights)\n",
        "\n",
        "# get activated value for each training epoch\n",
        "activated_outputs = sigmoid(weighted_sum)\n",
        "\n",
        "# get error - difference of output and true values\n",
        "error = correct_outputs - activated_outputs\n",
        "\n",
        "# get gradient descent/backdrop\n",
        "adjustments = error * sigmoid_derivative(weighted_sum)\n",
        "\n",
        "# update weights\n",
        "weights = weights + np.dot(inputs.T, adjustments)\n"
      ],
      "execution_count": null,
      "outputs": []
    },
    {
      "cell_type": "code",
      "metadata": {
        "id": "BYYerrnDZVvh",
        "colab_type": "code",
        "colab": {
          "base_uri": "https://localhost:8080/",
          "height": 86
        },
        "outputId": "bbc4ca2f-e360-42be-b74f-18493f3a8016"
      },
      "source": [
        "print('Weights after first run')\n",
        "print(weights)"
      ],
      "execution_count": null,
      "outputs": [
        {
          "output_type": "stream",
          "text": [
            "Weights after training\n",
            "[[ 0.61584356  0.95278448  0.34233248  0.44831899]\n",
            " [ 0.68968254  0.63936257  0.55681274  0.25215142]\n",
            " [ 0.57500486  0.47759217  0.17717756 -0.12040312]]\n"
          ],
          "name": "stdout"
        }
      ]
    },
    {
      "cell_type": "markdown",
      "metadata": {
        "id": "LwxZCYaRjKr3",
        "colab_type": "text"
      },
      "source": [
        "For loop for 10000 times"
      ]
    },
    {
      "cell_type": "code",
      "metadata": {
        "id": "OadkJrRHjKL4",
        "colab_type": "code",
        "colab": {
          "base_uri": "https://localhost:8080/",
          "height": 191
        },
        "outputId": "46de50c7-939d-4065-e72c-6eafb7bfc17d"
      },
      "source": [
        "for iteration in range(10000):\n",
        "  weighted_sum = np.dot(inputs, weights)\n",
        "  activated_outputs = sigmoid(weighted_sum)\n",
        "  error = correct_outputs - activated_outputs\n",
        "  adjustments = error * sigmoid_derivative(weighted_sum)\n",
        "  weights = weights + np.dot(inputs.T, adjustments)\n",
        "\n",
        "print('Weights after training')\n",
        "print(weights)\n",
        "print('-----------------------')\n",
        "print('Output after training')\n",
        "print(activated_outputs)"
      ],
      "execution_count": null,
      "outputs": [
        {
          "output_type": "stream",
          "text": [
            "Weights after training\n",
            "[[10.80275658 10.8027717  10.80279255 10.80271327]\n",
            " [-1.53451225 -1.53470577 -1.53400913 -1.53550944]\n",
            " [-5.31105488 -5.31105785 -5.31108483 -5.31100955]]\n",
            "-----------------------\n",
            "Output after training\n",
            "[[0.00491251 0.00491249 0.00491236 0.00491273]\n",
            " [0.99589605 0.9958961  0.99589608 0.99589606]\n",
            " [0.00106304 0.00106283 0.00106354 0.00106203]\n",
            " [0.99990563 0.99990562 0.99990568 0.99990554]]\n"
          ],
          "name": "stdout"
        }
      ]
    },
    {
      "cell_type": "markdown",
      "metadata": {
        "colab_type": "text",
        "id": "Xf7sdqVs0s4x"
      },
      "source": [
        "## Implement your own Perceptron Class and use it to classify a binary dataset: \n",
        "- [The Pima Indians Diabetes dataset](https://raw.githubusercontent.com/ryanleeallred/datasets/master/diabetes.csv) \n",
        "\n",
        "You may need to search for other's implementations in order to get inspiration for your own. There are *lots* of perceptron implementations on the internet with varying levels of sophistication and complexity. Whatever your approach, make sure you understand **every** line of your implementation and what its purpose is."
      ]
    },
    {
      "cell_type": "code",
      "metadata": {
        "id": "jFjM9A6eP7Cu",
        "colab_type": "code",
        "colab": {
          "base_uri": "https://localhost:8080/",
          "height": 224
        },
        "outputId": "46052720-db4b-4db4-8b38-68a97793c23d"
      },
      "source": [
        "diabetes = pd.read_csv('https://raw.githubusercontent.com/ryanleeallred/datasets/master/diabetes.csv')\n",
        "print(diabetes.shape)\n",
        "diabetes.head()"
      ],
      "execution_count": null,
      "outputs": [
        {
          "output_type": "stream",
          "text": [
            "(768, 9)\n"
          ],
          "name": "stdout"
        },
        {
          "output_type": "execute_result",
          "data": {
            "text/html": [
              "<div>\n",
              "<style scoped>\n",
              "    .dataframe tbody tr th:only-of-type {\n",
              "        vertical-align: middle;\n",
              "    }\n",
              "\n",
              "    .dataframe tbody tr th {\n",
              "        vertical-align: top;\n",
              "    }\n",
              "\n",
              "    .dataframe thead th {\n",
              "        text-align: right;\n",
              "    }\n",
              "</style>\n",
              "<table border=\"1\" class=\"dataframe\">\n",
              "  <thead>\n",
              "    <tr style=\"text-align: right;\">\n",
              "      <th></th>\n",
              "      <th>Pregnancies</th>\n",
              "      <th>Glucose</th>\n",
              "      <th>BloodPressure</th>\n",
              "      <th>SkinThickness</th>\n",
              "      <th>Insulin</th>\n",
              "      <th>BMI</th>\n",
              "      <th>DiabetesPedigreeFunction</th>\n",
              "      <th>Age</th>\n",
              "      <th>Outcome</th>\n",
              "    </tr>\n",
              "  </thead>\n",
              "  <tbody>\n",
              "    <tr>\n",
              "      <th>0</th>\n",
              "      <td>6</td>\n",
              "      <td>148</td>\n",
              "      <td>72</td>\n",
              "      <td>35</td>\n",
              "      <td>0</td>\n",
              "      <td>33.6</td>\n",
              "      <td>0.627</td>\n",
              "      <td>50</td>\n",
              "      <td>1</td>\n",
              "    </tr>\n",
              "    <tr>\n",
              "      <th>1</th>\n",
              "      <td>1</td>\n",
              "      <td>85</td>\n",
              "      <td>66</td>\n",
              "      <td>29</td>\n",
              "      <td>0</td>\n",
              "      <td>26.6</td>\n",
              "      <td>0.351</td>\n",
              "      <td>31</td>\n",
              "      <td>0</td>\n",
              "    </tr>\n",
              "    <tr>\n",
              "      <th>2</th>\n",
              "      <td>8</td>\n",
              "      <td>183</td>\n",
              "      <td>64</td>\n",
              "      <td>0</td>\n",
              "      <td>0</td>\n",
              "      <td>23.3</td>\n",
              "      <td>0.672</td>\n",
              "      <td>32</td>\n",
              "      <td>1</td>\n",
              "    </tr>\n",
              "    <tr>\n",
              "      <th>3</th>\n",
              "      <td>1</td>\n",
              "      <td>89</td>\n",
              "      <td>66</td>\n",
              "      <td>23</td>\n",
              "      <td>94</td>\n",
              "      <td>28.1</td>\n",
              "      <td>0.167</td>\n",
              "      <td>21</td>\n",
              "      <td>0</td>\n",
              "    </tr>\n",
              "    <tr>\n",
              "      <th>4</th>\n",
              "      <td>0</td>\n",
              "      <td>137</td>\n",
              "      <td>40</td>\n",
              "      <td>35</td>\n",
              "      <td>168</td>\n",
              "      <td>43.1</td>\n",
              "      <td>2.288</td>\n",
              "      <td>33</td>\n",
              "      <td>1</td>\n",
              "    </tr>\n",
              "  </tbody>\n",
              "</table>\n",
              "</div>"
            ],
            "text/plain": [
              "   Pregnancies  Glucose  BloodPressure  ...  DiabetesPedigreeFunction  Age  Outcome\n",
              "0            6      148             72  ...                     0.627   50        1\n",
              "1            1       85             66  ...                     0.351   31        0\n",
              "2            8      183             64  ...                     0.672   32        1\n",
              "3            1       89             66  ...                     0.167   21        0\n",
              "4            0      137             40  ...                     2.288   33        1\n",
              "\n",
              "[5 rows x 9 columns]"
            ]
          },
          "metadata": {
            "tags": []
          },
          "execution_count": 49
        }
      ]
    },
    {
      "cell_type": "markdown",
      "metadata": {
        "id": "uWVGRbHwDYrN",
        "colab_type": "text"
      },
      "source": [
        "# Change Class to a different Aactivation function. RELU - \n",
        "https://en.wikipedia.org/wiki/Rectifier_(neural_networks)#Variants\n",
        "soft plus\n",
        "A smooth approximation to the rectifier is the analytic function\n",
        "\n",
        ">f ( x ) = ln ⁡ ( 1 + e x ) , {\\displaystyle f(x)=\\ln(1+e^{x}),} {\\displaystyle f(x)=\\ln(1+e^{x}),}\n",
        "\n",
        "\n",
        "\n",
        "Hyperbolic tangent (shifted and scaled version of the logistic function, above)\n",
        "\n",
        "https://en.wikipedia.org/wiki/Sigmoid_function\n",
        "\n",
        ">f ( x ) = tanh ⁡ x = e x − e − x e x + e − x {\\displaystyle f(x)=\\tanh x={\\frac {e^{x}-e^{-x}}{e^{x}+e^{-x}}}}"
      ]
    },
    {
      "cell_type": "markdown",
      "metadata": {
        "id": "XuQz8k6eP7DB",
        "colab_type": "text"
      },
      "source": [
        "Although neural networks can handle non-normalized data, scaling or normalizing your data will improve your neural network's learning speed. Try to apply the sklearn `MinMaxScaler` or `Normalizer` to your diabetes dataset. "
      ]
    },
    {
      "cell_type": "markdown",
      "metadata": {
        "id": "1jPwjtGOP7DE",
        "colab_type": "text"
      },
      "source": [
        "**Letcure material did a learning rate of 1, this will mess up the material here, so I need to insert a learning rate parameter = 0.1 or 0.01**"
      ]
    },
    {
      "cell_type": "code",
      "metadata": {
        "id": "oV-u6VefP7DK",
        "colab_type": "code",
        "colab": {}
      },
      "source": [
        "from sklearn.preprocessing import MinMaxScaler, Normalizer\n",
        "\n",
        "feats = list(diabetes)[:-1]\n",
        "\n",
        "X = diabetes[feats]\n",
        "transformer = Normalizer().fit(X)\n",
        "X_trans = transformer.transform(X)\n",
        "y = diabetes['Outcome']"
      ],
      "execution_count": null,
      "outputs": []
    },
    {
      "cell_type": "code",
      "metadata": {
        "id": "250tvb6smn4x",
        "colab_type": "code",
        "colab": {
          "base_uri": "https://localhost:8080/",
          "height": 243
        },
        "outputId": "2fc14e0d-6fa0-405e-c362-58b76333bca1"
      },
      "source": [
        "X_trans"
      ],
      "execution_count": null,
      "outputs": [
        {
          "output_type": "execute_result",
          "data": {
            "text/plain": [
              "array([[0.03355237, 0.82762513, 0.40262844, ..., 0.18789327, 0.00350622,\n",
              "        0.27960308],\n",
              "       [0.008424  , 0.71604034, 0.55598426, ..., 0.22407851, 0.00295683,\n",
              "        0.26114412],\n",
              "       [0.04039768, 0.92409698, 0.32318146, ..., 0.11765825, 0.00339341,\n",
              "        0.16159073],\n",
              "       ...,\n",
              "       [0.02691539, 0.65135243, 0.38758161, ..., 0.14103664, 0.00131885,\n",
              "        0.16149234],\n",
              "       [0.00665306, 0.83828547, 0.39918356, ..., 0.20025708, 0.00232192,\n",
              "        0.31269379],\n",
              "       [0.00791454, 0.73605211, 0.55401772, ..., 0.24060198, 0.00249308,\n",
              "        0.18203439]])"
            ]
          },
          "metadata": {
            "tags": []
          },
          "execution_count": 74
        }
      ]
    },
    {
      "cell_type": "code",
      "metadata": {
        "id": "H4XRouRR2uxW",
        "colab_type": "code",
        "colab": {
          "base_uri": "https://localhost:8080/",
          "height": 34
        },
        "outputId": "2eb16b37-c011-4df0-d0e8-04bf011e0ab0"
      },
      "source": [
        "X.shape"
      ],
      "execution_count": null,
      "outputs": [
        {
          "output_type": "execute_result",
          "data": {
            "text/plain": [
              "(768, 8)"
            ]
          },
          "metadata": {
            "tags": []
          },
          "execution_count": 83
        }
      ]
    },
    {
      "cell_type": "code",
      "metadata": {
        "id": "n_dT160M2z7B",
        "colab_type": "code",
        "colab": {
          "base_uri": "https://localhost:8080/",
          "height": 34
        },
        "outputId": "79da0fc0-e0d0-4d4e-9e14-f7950cc3d779"
      },
      "source": [
        "X_trans.shape"
      ],
      "execution_count": null,
      "outputs": [
        {
          "output_type": "execute_result",
          "data": {
            "text/plain": [
              "(768, 8)"
            ]
          },
          "metadata": {
            "tags": []
          },
          "execution_count": 84
        }
      ]
    },
    {
      "cell_type": "code",
      "metadata": {
        "id": "e9lT5_cQ6c9c",
        "colab_type": "code",
        "colab": {
          "base_uri": "https://localhost:8080/",
          "height": 191
        },
        "outputId": "3213a8e4-1ec4-4817-fb0b-39c619935d96"
      },
      "source": [
        "diabetes.dtypes"
      ],
      "execution_count": null,
      "outputs": [
        {
          "output_type": "execute_result",
          "data": {
            "text/plain": [
              "Pregnancies                   int64\n",
              "Glucose                       int64\n",
              "BloodPressure                 int64\n",
              "SkinThickness                 int64\n",
              "Insulin                       int64\n",
              "BMI                         float64\n",
              "DiabetesPedigreeFunction    float64\n",
              "Age                           int64\n",
              "Outcome                       int64\n",
              "dtype: object"
            ]
          },
          "metadata": {
            "tags": []
          },
          "execution_count": 92
        }
      ]
    },
    {
      "cell_type": "code",
      "metadata": {
        "colab_type": "code",
        "id": "-W0tiX1F1hh2",
        "colab": {}
      },
      "source": [
        "##### Update this Class #####\n",
        "\n",
        "class Perceptron:\n",
        "    \n",
        "    def __init__(self, rate= 0.01, niter = 10): # from gradient dencent\n",
        "        self.rate = rate\n",
        "        self.niter = niter\n",
        "    \n",
        "    def __sigmoid(self, x):\n",
        "      sigmoid = 1 / (1+np.exp(-x))\n",
        "      return sigmoid\n",
        "    \n",
        "    def __sigmoid_derivative(self, x):\n",
        "      sx = sigmoid(x)\n",
        "      return sx * (1-sx)\n",
        "\n",
        "    def fit(self, X, y):\n",
        "      \"\"\"Fit training data\n",
        "      X : Training vectors, X.shape : [#samples, #features]\n",
        "      y : Target values, y.shape : [#samples]\n",
        "      \"\"\"\n",
        "\n",
        "      # Randomly Initialize Weights\n",
        "      self.weights = np.zeros(1 + X.shape[1])\n",
        "    \n",
        "      # Number of misclassifications\n",
        "      self.errors = []  # Number of misclassifications\n",
        "\n",
        "      for i in range(self.niter):\n",
        "        err = 0\n",
        "        for xi, target in zip(X, y):\n",
        "          delta_w = self.rate * (target - self.predict(xi)) # diffeencet from target and predictions\n",
        "          self.weights[1:] += delta_w * xi\n",
        "          self.weights[0] += delta_w # bias\n",
        "          err += int(delta_w != 0.0) # no error if target - prediction = 0\n",
        "        self.errors.append(err)\n",
        "      return self\n",
        "\n",
        "    def net_input(self, X):\n",
        "        \"\"\"Calculate net input\"\"\"\n",
        "        return np.dot(X, self.weights[1:]) + self.weights[0] # [0] is bias\n",
        "\n",
        "    def predict(self, X):\n",
        "        \"\"\"Return class label after unit step\"\"\"\n",
        "        return np.where(self.net_input(X) >= 0.0, 1, -1)"
      ],
      "execution_count": null,
      "outputs": []
    },
    {
      "cell_type": "code",
      "metadata": {
        "id": "vhCUCnz213Dm",
        "colab_type": "code",
        "colab": {
          "base_uri": "https://localhost:8080/",
          "height": 279
        },
        "outputId": "2dccecf4-f717-4af1-9c12-fcf46ada34a6"
      },
      "source": [
        "pn = Perceptron(0.1, 49)\n",
        "pn.fit(X_trans, diabetes['Outcome'])\n",
        "plt.plot(range(1, len(pn.errors) + 1), pn.errors, marker='o')\n",
        "plt.xlabel('Epochs')\n",
        "plt.ylabel('Number of misclassifications')\n",
        "plt.show();"
      ],
      "execution_count": null,
      "outputs": [
        {
          "output_type": "display_data",
          "data": {
            "image/png": "[encoded data removed]",
            "text/plain": [
              "<Figure size 432x288 with 1 Axes>"
            ]
          },
          "metadata": {
            "tags": [],
            "needs_background": "light"
          }
        }
      ]
    },
    {
      "cell_type": "markdown",
      "metadata": {
        "id": "RBra3LUYlAW9",
        "colab_type": "text"
      },
      "source": [
        "Trying with a new activation function"
      ]
    },
    {
      "cell_type": "code",
      "metadata": {
        "id": "Ld6MxMDR_mQ-",
        "colab_type": "code",
        "colab": {}
      },
      "source": [
        "import math"
      ],
      "execution_count": null,
      "outputs": []
    },
    {
      "cell_type": "code",
      "metadata": {
        "id": "04CYekr-_pjf",
        "colab_type": "code",
        "colab": {
          "base_uri": "https://localhost:8080/",
          "height": 34
        },
        "outputId": "2f64c3a9-7b60-43e8-8c96-f40a9c0a1b37"
      },
      "source": [
        "math.log(1+np.exp(x))"
      ],
      "execution_count": null,
      "outputs": [
        {
          "output_type": "execute_result",
          "data": {
            "text/plain": [
              "1.3132616875182228"
            ]
          },
          "metadata": {
            "tags": []
          },
          "execution_count": 100
        }
      ]
    },
    {
      "cell_type": "code",
      "metadata": {
        "id": "NCzQzV2VAPuM",
        "colab_type": "code",
        "colab": {
          "base_uri": "https://localhost:8080/",
          "height": 34
        },
        "outputId": "e6ca7616-1b42-4429-e8f8-7dbc743509df"
      },
      "source": [
        "np.exp(x) / (np.exp(x) + 1)"
      ],
      "execution_count": null,
      "outputs": [
        {
          "output_type": "execute_result",
          "data": {
            "text/plain": [
              "0.7310585786300049"
            ]
          },
          "metadata": {
            "tags": []
          },
          "execution_count": 101
        }
      ]
    },
    {
      "cell_type": "code",
      "metadata": {
        "id": "x6CidRi0AQHP",
        "colab_type": "code",
        "colab": {}
      },
      "source": [
        "# Preceptron 2 - tried with Softplus activation function\n",
        "from sklearn.preprocessing import MinMaxScaler, Normalizer\n",
        "\n",
        "feats = list(diabetes)[:-1]\n",
        "\n",
        "X = diabetes[feats]\n",
        "transformer = Normalizer().fit(X)\n",
        "X_trans = transformer.transform(X)\n",
        "y = diabetes['Outcome']\n"
      ],
      "execution_count": null,
      "outputs": []
    },
    {
      "cell_type": "code",
      "metadata": {
        "id": "IuQXusBpBk12",
        "colab_type": "code",
        "colab": {}
      },
      "source": [
        "class Perceptron2:\n",
        "    \n",
        "    def __init__(self, rate= 0.01, niter = 10): # from gradient dencent\n",
        "        self.rate = rate\n",
        "        self.niter = niter\n",
        "    \n",
        "    def __softplus(self, x):\n",
        "      return math.log(1+np.exp(x))\n",
        "    \n",
        "    def __softplus_derviative(self, x):\n",
        "      return np.exp(x) / (np.exp(x) + 1)\n",
        "\n",
        "    def fit(self, X, y):\n",
        "      \"\"\"Fit training data\n",
        "      X : Training vectors, X.shape : [#samples, #features]\n",
        "      y : Target values, y.shape : [#samples]\n",
        "      \"\"\"\n",
        "\n",
        "      # Randomly Initialize Weights\n",
        "      self.weights = np.zeros(1 + X.shape[1])\n",
        "    \n",
        "      # Number of misclassifications\n",
        "      self.errors = []  # Number of misclassifications\n",
        "\n",
        "      for i in range(self.niter):\n",
        "        err = 0\n",
        "        for xi, target in zip(X, y):\n",
        "          delta_w = self.rate * (target - self.predict(xi)) # diffeencet from target and predictions\n",
        "          self.weights[1:] += delta_w * xi\n",
        "          self.weights[0] += delta_w # bias\n",
        "          err += int(delta_w != 0.0) # no error if target - prediction = 0\n",
        "        self.errors.append(err)\n",
        "      return self\n",
        "\n",
        "    def net_input(self, X):\n",
        "        \"\"\"Calculate net input\"\"\"\n",
        "        return np.dot(X, self.weights[1:]) + self.weights[0] # [0] is bias\n",
        "\n",
        "    def predict(self, X):\n",
        "        \"\"\"Return class label after unit step\"\"\"\n",
        "        return np.where(self.net_input(X) >= 0.0, 1, -1)"
      ],
      "execution_count": null,
      "outputs": []
    },
    {
      "cell_type": "code",
      "metadata": {
        "id": "C0iLHzgOCD2X",
        "colab_type": "code",
        "colab": {
          "base_uri": "https://localhost:8080/",
          "height": 279
        },
        "outputId": "243f6646-9b3e-41f0-b422-c18bf71cc00b"
      },
      "source": [
        "pn = Perceptron2(0.1, 49)\n",
        "pn.fit(X_trans, diabetes['Outcome'])\n",
        "plt.plot(range(1, len(pn.errors) + 1), pn.errors, marker='o')\n",
        "plt.xlabel('Epochs')\n",
        "plt.ylabel('Number of misclassifications')\n",
        "plt.show();"
      ],
      "execution_count": null,
      "outputs": [
        {
          "output_type": "display_data",
          "data": {
            "image/png": "[encoded data removed]",
            "text/plain": [
              "<Figure size 432x288 with 1 Axes>"
            ]
          },
          "metadata": {
            "tags": [],
            "needs_background": "light"
          }
        }
      ]
    },
    {
      "cell_type": "markdown",
      "metadata": {
        "colab_type": "text",
        "id": "6QR4oAW1xdyu"
      },
      "source": [
        "## Stretch Goals:\n",
        "\n",
        "- Research \"backpropagation\" to learn how weights get updated in neural networks (tomorrow's lecture). \n",
        "- Implement a multi-layer perceptron. (for non-linearly separable classes)\n",
        "- Try and implement your own backpropagation algorithm.\n",
        "- What are the pros and cons of the different activation functions? How should you decide between them for the different layers of a neural network?"
      ]
    },
    {
      "cell_type": "code",
      "metadata": {
        "id": "mDOWwZg4t3qg",
        "colab_type": "code",
        "colab": {}
      },
      "source": [
        ""
      ],
      "execution_count": null,
      "outputs": []
    }
  ]
}