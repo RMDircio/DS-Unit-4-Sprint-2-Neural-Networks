{
  "nbformat": 4,
  "nbformat_minor": 0,
  "metadata": {
    "colab": {
      "name": "Regina_Dircio_DSPT5_432_Backprop_Assignment.ipynb",
      "provenance": [],
      "collapsed_sections": [],
      "include_colab_link": true
    },
    "kernelspec": {
      "display_name": "Python 3",
      "language": "python",
      "name": "python3"
    },
    "language_info": {
      "codemirror_mode": {
        "name": "ipython",
        "version": 3
      },
      "file_extension": ".py",
      "mimetype": "text/x-python",
      "name": "python",
      "nbconvert_exporter": "python",
      "pygments_lexer": "ipython3",
      "version": "3.7.3"
    },
    "nteract": {
      "version": "0.22.4"
    }
  },
  "cells": [
    {
      "cell_type": "markdown",
      "metadata": {
        "id": "view-in-github",
        "colab_type": "text"
      },
      "source": [
        "<a href=\"https://colab.research.google.com/github/RMDircio/DS-Unit-4-Sprint-2-Neural-Networks/blob/main/module2-backpropagation/Regina_Dircio_DSPT5_432_Backprop_Assignment.ipynb\" target=\"_parent\"><img src=\"https://colab.research.google.com/assets/colab-badge.svg\" alt=\"Open In Colab\"/></a>"
      ]
    },
    {
      "cell_type": "markdown",
      "metadata": {
        "colab_type": "text",
        "id": "NGGrt9EYlCqY"
      },
      "source": [
        "<img align=\"left\" src=\"https://lever-client-logos.s3.amazonaws.com/864372b1-534c-480e-acd5-9711f850815c-1524247202159.png\" width=200>\n",
        "<br></br>\n",
        "\n",
        "# Backpropagation Practice\n",
        "\n",
        "## *Data Science Unit 4 Sprint 2 Assignment 2*\n",
        "\n",
        "Using TensorFlow Keras, Implement a 3 input, 4 node hidden-layer, 1 output node Multilayer Perceptron on the following dataset:\n",
        "\n",
        "| x1 | x2 | x3 | y |\n",
        "|----|----|----|---|\n",
        "| 0  | 0  | 1  | 0 |\n",
        "| 0  | 1  | 1  | 1 |\n",
        "| 1  | 0  | 1  | 1 |\n",
        "| 0  | 1  | 0  | 1 |\n",
        "| 1  | 0  | 0  | 1 |\n",
        "| 1  | 1  | 1  | 0 |\n",
        "| 0  | 0  | 0  | 0 |\n",
        "\n",
        "If you look at the data you'll notice that the first two columns behave like an XOR gate while the last column is mostly just noise. Remember that creating an XOR gate was what the perceptron was criticized for not being able to learn.\n",
        "\n",
        "This is your \"Hello World!\" of TensorFlow.\n",
        "\n",
        "### Example TensorFlow Starter Code\n",
        "\n",
        "```python \n",
        "from tensorflow.keras.models import Sequential\n",
        "from tensorflow.keras.layers import Dense\n",
        "\n",
        "model = Sequential([\n",
        "    Dense(3, activation='sigmoid', input_dim=2),\n",
        "    Dense(1, activation='sigmoid')\n",
        "])\n",
        "\n",
        "model.compile(optimizer='sgd', loss='binary_crossentropy', metrics=['acc'])\n",
        "\n",
        "results = model.fit(X,y, epochs=100)\n",
        "\n",
        "```\n",
        "\n",
        "### Additional Written Tasks:\n",
        "1. Investigate the various [loss functions](https://www.tensorflow.org/api_docs/python/tf/keras/losses). Which is best suited for the task at hand (predicting 1 / 0) and why? \n",
        "\n",
        "_The following are the best binary options for loss_\n",
        "* binary_crossentropy(...): Computes the binary crossentropy loss.\n",
        "* class BinaryCrossentropy: Computes the cross-entropy loss between true labels and predicted labels.\n",
        "\n",
        "2. What is the difference between a loss function and a metric? Why might we need both in Keras? \n",
        "\n",
        "[Stack-Overflow](https://stackoverflow.com/questions/48280873/what-is-the-difference-between-loss-function-and-metric-in-keras)\n",
        " \n",
        ">The loss function is used to optimize your model. This is the function that will get minimized by the optimizer.\n",
        "\n",
        ">A metric is used to judge the performance of your model. This is only for you to look at and has nothing to do with the optimization process.\n",
        "\n",
        "* _Another answer_\n",
        ">The loss function is that parameter one passes to Keras model.compile which is actually optimized while training the model . This loss function is generally minimized by the model.\n",
        "\n",
        ">Unlike the loss function , the metric is another list of parameters passed to Keras model.compile which is actually used for judging the performance of the model.\n",
        "\n",
        "3. Investigate the various [optimizers](https://www.tensorflow.org/api_docs/python/tf/keras/optimizers). Stochastic Gradient Descent (`sgd`) is not the learning algorithm dejour anyone. Why is that? What do newer optimizers such as `adam` have to offer? \n",
        "\n",
        "* _Looks like things have been upgraded and new optimizers have been buit off of SGD_\n",
        ">Adam optimization is a stochastic gradient descent method that is based on adaptive estimation of first-order and second-order moments. According to the paper Adam: A Method for Stochastic Optimization. Kingma et al., 2014, the method is \"computationally efficient, has little memory requirement, invariant to diagonal rescaling of gradients, and is well suited for problems that are large in terms of data/parameters\". \n",
        "\n"
      ]
    },
    {
      "cell_type": "code",
      "metadata": {
        "id": "w4McoCKPiF4l",
        "colab_type": "code",
        "colab": {}
      },
      "source": [
        "import numpy as np\n",
        "from tensorflow import keras\n",
        "from tensorflow.keras.layers import Dense\n",
        "from tensorflow.keras.models import Sequential\n",
        "from tensorflow.keras.optimizers import SGD"
      ],
      "execution_count": 89,
      "outputs": []
    },
    {
      "cell_type": "code",
      "metadata": {
        "colab_type": "code",
        "id": "nEREYT-3wI1f",
        "colab": {
          "base_uri": "https://localhost:8080/",
          "height": 225
        },
        "outputId": "e96cac71-607a-4a6d-db1c-59c62a0bfe10"
      },
      "source": [
        "''' Using TensorFlow Keras, Implement a 3 input, 4 node hidden-layer, \n",
        "1 output node Multilayer Perceptron on the following dataset\n",
        "'''\n",
        "\n",
        "sgd = SGD(learning_rate= 0.01)\n",
        "\n",
        "# predict\n",
        "model = Sequential([\n",
        "                    Dense(4,activation= 'sigmoid', input_dim= 3),\n",
        "                    Dense(1,activation= 'sigmoid')\n",
        "                    ])\n",
        "# compile\n",
        "model.compile(optimizer= sgd, loss= 'binary_crossentropy', metrics= ['accuracy'])\n",
        "\n",
        "\n",
        "# check model\n",
        "model.summary()"
      ],
      "execution_count": 114,
      "outputs": [
        {
          "output_type": "stream",
          "text": [
            "Model: \"sequential_13\"\n",
            "_________________________________________________________________\n",
            "Layer (type)                 Output Shape              Param #   \n",
            "=================================================================\n",
            "dense_62 (Dense)             (None, 4)                 16        \n",
            "_________________________________________________________________\n",
            "dense_63 (Dense)             (None, 1)                 5         \n",
            "=================================================================\n",
            "Total params: 21\n",
            "Trainable params: 21\n",
            "Non-trainable params: 0\n",
            "_________________________________________________________________\n"
          ],
          "name": "stdout"
        }
      ]
    },
    {
      "cell_type": "code",
      "metadata": {
        "id": "F18qQywZf-RD",
        "colab_type": "code",
        "colab": {}
      },
      "source": [
        "import pandas as pd\n",
        "\n",
        "# get data\n",
        "data = np.array([\n",
        "               [0, 0, 1, 0],\n",
        "               [0, 1, 1, 1],\n",
        "               [1, 0, 1, 1],\n",
        "               [0, 1, 0, 1],\n",
        "               [1, 0, 0, 1],\n",
        "               [1, 1, 1, 0],\n",
        "               [0, 0, 0, 0]])\n",
        "# # y column\n",
        "# correct_outputs = np.array([\n",
        "#                    0,\n",
        "#                    1,\n",
        "#                    1,\n",
        "#                    1,\n",
        "#                    1,\n",
        "#                    0,\n",
        "#                    0])\n",
        "\n",
        "# data to dataframe\n",
        "data = pd.DataFrame(data)\n"
      ],
      "execution_count": 115,
      "outputs": []
    },
    {
      "cell_type": "code",
      "metadata": {
        "id": "42BC-Of8uyJE",
        "colab_type": "code",
        "colab": {}
      },
      "source": [
        "feats = list(data)[0:3]\n",
        "target = list(data)[3]"
      ],
      "execution_count": 116,
      "outputs": []
    },
    {
      "cell_type": "code",
      "metadata": {
        "id": "6DZdtAxvpcJc",
        "colab_type": "code",
        "colab": {
          "base_uri": "https://localhost:8080/",
          "height": 34
        },
        "outputId": "92a78a77-aa25-482e-be2d-bb41a01bfd9b"
      },
      "source": [
        "feats, target"
      ],
      "execution_count": 117,
      "outputs": [
        {
          "output_type": "execute_result",
          "data": {
            "text/plain": [
              "([0, 1, 2], 3)"
            ]
          },
          "metadata": {
            "tags": []
          },
          "execution_count": 117
        }
      ]
    },
    {
      "cell_type": "code",
      "metadata": {
        "id": "eyQr8hshsefk",
        "colab_type": "code",
        "colab": {}
      },
      "source": [
        "X = data[feats]\n",
        "y = data[target]"
      ],
      "execution_count": 118,
      "outputs": []
    },
    {
      "cell_type": "code",
      "metadata": {
        "id": "tI8PkKyUvdVm",
        "colab_type": "code",
        "colab": {
          "base_uri": "https://localhost:8080/",
          "height": 34
        },
        "outputId": "2be1dff5-5403-4ff2-9816-14a32e06e82e"
      },
      "source": [
        "X.shape, y.shape"
      ],
      "execution_count": 119,
      "outputs": [
        {
          "output_type": "execute_result",
          "data": {
            "text/plain": [
              "((7, 3), (7,))"
            ]
          },
          "metadata": {
            "tags": []
          },
          "execution_count": 119
        }
      ]
    },
    {
      "cell_type": "code",
      "metadata": {
        "id": "aqtjkFC6vmah",
        "colab_type": "code",
        "colab": {
          "base_uri": "https://localhost:8080/",
          "height": 225
        },
        "outputId": "672ced8f-37a3-4cb6-8faa-51d6bd2834a8"
      },
      "source": [
        "model.summary()"
      ],
      "execution_count": 120,
      "outputs": [
        {
          "output_type": "stream",
          "text": [
            "Model: \"sequential_13\"\n",
            "_________________________________________________________________\n",
            "Layer (type)                 Output Shape              Param #   \n",
            "=================================================================\n",
            "dense_62 (Dense)             (None, 4)                 16        \n",
            "_________________________________________________________________\n",
            "dense_63 (Dense)             (None, 1)                 5         \n",
            "=================================================================\n",
            "Total params: 21\n",
            "Trainable params: 21\n",
            "Non-trainable params: 0\n",
            "_________________________________________________________________\n"
          ],
          "name": "stdout"
        }
      ]
    },
    {
      "cell_type": "code",
      "metadata": {
        "id": "6zNZSH4Kfbxi",
        "colab_type": "code",
        "colab": {
          "base_uri": "https://localhost:8080/",
          "height": 885
        },
        "outputId": "ec287d0d-018f-40c8-8cd6-fbc5f32bd10c"
      },
      "source": [
        "# fit the model\n",
        "results = model.fit(X, y,\n",
        "                    epochs= 25,\n",
        "                    )"
      ],
      "execution_count": 121,
      "outputs": [
        {
          "output_type": "stream",
          "text": [
            "Epoch 1/25\n",
            "1/1 [==============================] - 0s 1ms/step - loss: 0.9992 - accuracy: 0.4286\n",
            "Epoch 2/25\n",
            "1/1 [==============================] - 0s 1ms/step - loss: 0.9964 - accuracy: 0.4286\n",
            "Epoch 3/25\n",
            "1/1 [==============================] - 0s 1ms/step - loss: 0.9936 - accuracy: 0.4286\n",
            "Epoch 4/25\n",
            "1/1 [==============================] - 0s 1ms/step - loss: 0.9908 - accuracy: 0.4286\n",
            "Epoch 5/25\n",
            "1/1 [==============================] - 0s 2ms/step - loss: 0.9880 - accuracy: 0.4286\n",
            "Epoch 6/25\n",
            "1/1 [==============================] - 0s 2ms/step - loss: 0.9853 - accuracy: 0.4286\n",
            "Epoch 7/25\n",
            "1/1 [==============================] - 0s 2ms/step - loss: 0.9826 - accuracy: 0.4286\n",
            "Epoch 8/25\n",
            "1/1 [==============================] - 0s 2ms/step - loss: 0.9799 - accuracy: 0.4286\n",
            "Epoch 9/25\n",
            "1/1 [==============================] - 0s 2ms/step - loss: 0.9772 - accuracy: 0.4286\n",
            "Epoch 10/25\n",
            "1/1 [==============================] - 0s 2ms/step - loss: 0.9746 - accuracy: 0.4286\n",
            "Epoch 11/25\n",
            "1/1 [==============================] - 0s 2ms/step - loss: 0.9719 - accuracy: 0.4286\n",
            "Epoch 12/25\n",
            "1/1 [==============================] - 0s 2ms/step - loss: 0.9693 - accuracy: 0.4286\n",
            "Epoch 13/25\n",
            "1/1 [==============================] - 0s 2ms/step - loss: 0.9667 - accuracy: 0.4286\n",
            "Epoch 14/25\n",
            "1/1 [==============================] - 0s 2ms/step - loss: 0.9642 - accuracy: 0.4286\n",
            "Epoch 15/25\n",
            "1/1 [==============================] - 0s 2ms/step - loss: 0.9616 - accuracy: 0.4286\n",
            "Epoch 16/25\n",
            "1/1 [==============================] - 0s 2ms/step - loss: 0.9591 - accuracy: 0.4286\n",
            "Epoch 17/25\n",
            "1/1 [==============================] - 0s 2ms/step - loss: 0.9566 - accuracy: 0.4286\n",
            "Epoch 18/25\n",
            "1/1 [==============================] - 0s 2ms/step - loss: 0.9541 - accuracy: 0.4286\n",
            "Epoch 19/25\n",
            "1/1 [==============================] - 0s 2ms/step - loss: 0.9516 - accuracy: 0.4286\n",
            "Epoch 20/25\n",
            "1/1 [==============================] - 0s 2ms/step - loss: 0.9491 - accuracy: 0.4286\n",
            "Epoch 21/25\n",
            "1/1 [==============================] - 0s 2ms/step - loss: 0.9467 - accuracy: 0.4286\n",
            "Epoch 22/25\n",
            "1/1 [==============================] - 0s 2ms/step - loss: 0.9443 - accuracy: 0.4286\n",
            "Epoch 23/25\n",
            "1/1 [==============================] - 0s 2ms/step - loss: 0.9419 - accuracy: 0.4286\n",
            "Epoch 24/25\n",
            "1/1 [==============================] - 0s 2ms/step - loss: 0.9395 - accuracy: 0.4286\n",
            "Epoch 25/25\n",
            "1/1 [==============================] - 0s 2ms/step - loss: 0.9372 - accuracy: 0.4286\n"
          ],
          "name": "stdout"
        }
      ]
    },
    {
      "cell_type": "code",
      "metadata": {
        "id": "kg-Svf47sdWH",
        "colab_type": "code",
        "colab": {}
      },
      "source": [
        ""
      ],
      "execution_count": null,
      "outputs": []
    },
    {
      "cell_type": "markdown",
      "metadata": {
        "id": "1yM0Zq8daUkG",
        "colab_type": "text"
      },
      "source": [
        "## Build a Tensor Keras Perceptron\n",
        "\n",
        "Try to match the architecture we used on Monday - inputs nodes and one output node. Apply this architecture to the XOR-ish dataset above. \n",
        "\n",
        "After fitting your model answer these questions: \n",
        "\n",
        "Are you able to achieve the same results as a bigger architecture from the first part of the assignment? Why is this disparity the case? What properties of the XOR dataset would cause this disparity? \n",
        "\n",
        "Now extrapolate this behavior on a much larger dataset in terms of features. What kind of architecture decisions could we make to avoid the problems the XOR dataset presents at scale? \n",
        "\n",
        "*Note:* The bias term is baked in by default in the Dense layer."
      ]
    },
    {
      "cell_type": "code",
      "metadata": {
        "id": "iuNCmSILaUkU",
        "colab_type": "code",
        "colab": {}
      },
      "source": [
        ""
      ],
      "execution_count": null,
      "outputs": []
    },
    {
      "cell_type": "markdown",
      "metadata": {
        "colab_type": "text",
        "id": "8b-r70o8p2Dm"
      },
      "source": [
        "## Try building/training a more complex MLP on a bigger dataset.\n",
        "\n",
        "Use TensorFlow Keras & the [MNIST dataset](http://yann.lecun.com/exdb/mnist/) to build the canonical handwriting digit recognizer and see what kind of accuracy you can achieve. \n",
        "\n",
        "If you need inspiration, the Internet is chalk-full of tutorials, but I want you to see how far you can get on your own first. I've linked to the original MNIST dataset above but it will probably be easier to download data through a neural network library. If you reference outside resources make sure you understand every line of code that you're using from other sources, and share with your fellow students helpful resources that you find.\n",
        "\n",
        "\n",
        "### Parts\n",
        "1. Gathering & Transforming the Data\n",
        "2. Making MNIST a Binary Problem\n",
        "3. Estimating your Neural Network (the part you focus on)"
      ]
    },
    {
      "cell_type": "markdown",
      "metadata": {
        "id": "pNPZyFdIaUk1",
        "colab_type": "text"
      },
      "source": [
        "### Gathering the Data \n",
        "\n",
        "`keras` has a handy method to pull the mnist dataset for you. You'll notice that each observation is a 28x28 arrary which represents an image. Although most Neural Network frameworks can handle higher dimensional data, that is more overhead than necessary for us. We need to flatten the image to one long row which will be 784 values (28X28). Basically, you will be appending each row to one another to make on really long row. "
      ]
    },
    {
      "cell_type": "code",
      "metadata": {
        "id": "2NJtzUHUaUk4",
        "colab_type": "code",
        "colab": {}
      },
      "source": [
        "sgd = SGD(learning_rate= 0.01)\n",
        "\n",
        "# predict\n",
        "model = Sequential([\n",
        "                    Dense(5,activation= 'sigmoid', input_dim= 784),\n",
        "                    Dense(5,activation= 'sigmoid'),\n",
        "                    Dense(10,activation= 'softmax')\n",
        "                    ])\n",
        "# compile\n",
        "model.compile(optimizer= sgd, loss= 'sparse_categorical_crossentropy', metrics= ['accuracy'])\n",
        "\n",
        "\n",
        "\n",
        "# fit the model- default Learning rate\n",
        "lr_default = model.fit(X_train, y_train,\n",
        "                         epochs= 25,\n",
        "                         batch_size= 32, # changed\n",
        "                         validation_data= (X_test, y_test))import numpy as np\n",
        "from tensorflow.keras.datasets import mnist\n",
        "from tensorflow.keras.utils import to_categorical"
      ],
      "execution_count": null,
      "outputs": []
    },
    {
      "cell_type": "code",
      "metadata": {
        "id": "lvWg2vIBaUlK",
        "colab_type": "code",
        "colab": {}
      },
      "source": [
        "# input image dimensions\n",
        "img_rows, img_cols = 28, 28"
      ],
      "execution_count": null,
      "outputs": []
    },
    {
      "cell_type": "code",
      "metadata": {
        "id": "kKmrVAhMaUla",
        "colab_type": "code",
        "colab": {
          "base_uri": "https://localhost:8080/",
          "height": 52
        },
        "outputId": "1c521d91-9c78-4a37-d9b0-e65a79edd26f"
      },
      "source": [
        "# the data, split between train and test sets\n",
        "(x_train, y_train), (x_test, y_test) = mnist.load_data()"
      ],
      "execution_count": null,
      "outputs": [
        {
          "output_type": "stream",
          "text": [
            "Downloading data from https://storage.googleapis.com/tensorflow/tf-keras-datasets/mnist.npz\n",
            "11493376/11490434 [==============================] - 0s 0us/step\n"
          ],
          "name": "stdout"
        }
      ]
    },
    {
      "cell_type": "code",
      "metadata": {
        "id": "ZTXPaQfGaUlq",
        "colab_type": "code",
        "colab": {}
      },
      "source": [
        "x_train = x_train.reshape(x_train.shape[0], img_rows * img_cols)\n",
        "x_test = x_test.reshape(x_test.shape[0], img_rows * img_cols)\n",
        "\n",
        "# Normalize Our Data\n",
        "x_train = x_train / 255\n",
        "x_test = x_test / 255"
      ],
      "execution_count": null,
      "outputs": []
    },
    {
      "cell_type": "code",
      "metadata": {
        "id": "9vIV4IuUaUl2",
        "colab_type": "code",
        "colab": {
          "base_uri": "https://localhost:8080/",
          "height": 34
        },
        "outputId": "e29fb4d7-dbc7-4ed6-9cab-4be5b48cbd5e"
      },
      "source": [
        "# Now the data should be in a format you're more familiar with\n",
        "x_train.shape"
      ],
      "execution_count": null,
      "outputs": [
        {
          "output_type": "execute_result",
          "data": {
            "text/plain": [
              "(60000, 784)"
            ]
          },
          "metadata": {
            "tags": []
          },
          "execution_count": 28
        }
      ]
    },
    {
      "cell_type": "markdown",
      "metadata": {
        "id": "cIVY8GabaUl9",
        "colab_type": "text"
      },
      "source": [
        "### Making MNIST a Binary Problem \n",
        "MNIST is multiclass classification problem; however we haven't covered all the necessary techniques to handle this yet. You would need to one-hot encode the target, use a different loss metric, and use softmax activations for the last layer. This is all stuff we'll cover later this week, but let us simplify the problem for now: Zero or all else."
      ]
    },
    {
      "cell_type": "code",
      "metadata": {
        "id": "-V8eQ5WtaUl-",
        "colab_type": "code",
        "colab": {}
      },
      "source": [
        "import numpy as np\n",
        "\n",
        "# what is this?????\n",
        "y_temp = np.zeros(y_train.shape)\n",
        "y_temp[np.where(y_train == 0.0)[0]] = 1\n",
        "y_train = y_temp\n",
        "\n",
        "y_temp = np.zeros(y_test.shape)\n",
        "y_temp[np.where(y_test == 0.0)[0]] = 1\n",
        "y_test = y_temp"
      ],
      "execution_count": null,
      "outputs": []
    },
    {
      "cell_type": "code",
      "metadata": {
        "id": "ELfeXdJ-aUmJ",
        "colab_type": "code",
        "colab": {
          "base_uri": "https://localhost:8080/",
          "height": 34
        },
        "outputId": "8d3b8aed-83d2-4cd3-d0ab-1f1c0bb65cc2"
      },
      "source": [
        "# A Nice Binary target for ya to work with\n",
        "y_train"
      ],
      "execution_count": null,
      "outputs": [
        {
          "output_type": "execute_result",
          "data": {
            "text/plain": [
              "array([0., 1., 0., ..., 0., 0., 0.])"
            ]
          },
          "metadata": {
            "tags": []
          },
          "execution_count": 30
        }
      ]
    },
    {
      "cell_type": "code",
      "metadata": {
        "id": "ivAhBJx9nvnj",
        "colab_type": "code",
        "colab": {
          "base_uri": "https://localhost:8080/",
          "height": 52
        },
        "outputId": "3eab07a0-3aca-4d8c-aa76-a6463f2e35a4"
      },
      "source": [
        "print('X train:', X_train.shape)\n",
        "print('X test:', X_test.shape)"
      ],
      "execution_count": null,
      "outputs": [
        {
          "output_type": "stream",
          "text": [
            "X train: (7, 4)\n",
            "X test: (7, 4)\n"
          ],
          "name": "stdout"
        }
      ]
    },
    {
      "cell_type": "markdown",
      "metadata": {
        "id": "F9zaubD_aUmU",
        "colab_type": "text"
      },
      "source": [
        "### Estimating Your `net"
      ]
    },
    {
      "cell_type": "code",
      "metadata": {
        "colab_type": "code",
        "id": "5MOPtYdk1HgA",
        "colab": {
          "base_uri": "https://localhost:8080/",
          "height": 905
        },
        "outputId": "4e8582b5-503a-4d13-e47b-f05a806e4275"
      },
      "source": [
        "sgd = SGD(learning_rate= 0.01)\n",
        "\n",
        "# predict\n",
        "model = Sequential([\n",
        "                    Dense(5,activation= 'sigmoid', input_dim= 784),\n",
        "                    Dense(5,activation= 'sigmoid'),\n",
        "                    Dense(10,activation= 'softmax')\n",
        "                    ])\n",
        "# compile\n",
        "model.compile(optimizer= sgd, loss= 'sparse_categorical_crossentropy', metrics= ['accuracy'])\n",
        "\n",
        "\n",
        "\n",
        "# fit the model\n",
        "results = model.fit(x_train, y_train,\n",
        "                         epochs= 25,\n",
        "                         batch_size= 32,\n",
        "                         validation_data= (x_test, y_test))"
      ],
      "execution_count": null,
      "outputs": [
        {
          "output_type": "stream",
          "text": [
            "Epoch 1/25\n",
            "1875/1875 [==============================] - 3s 2ms/step - loss: 0.5128 - accuracy: 0.8795 - val_loss: 0.3482 - val_accuracy: 0.9020\n",
            "Epoch 2/25\n",
            "1875/1875 [==============================] - 3s 1ms/step - loss: 0.3381 - accuracy: 0.9013 - val_loss: 0.3277 - val_accuracy: 0.9020\n",
            "Epoch 3/25\n",
            "1875/1875 [==============================] - 3s 2ms/step - loss: 0.3224 - accuracy: 0.9013 - val_loss: 0.3126 - val_accuracy: 0.9020\n",
            "Epoch 4/25\n",
            "1875/1875 [==============================] - 3s 2ms/step - loss: 0.3025 - accuracy: 0.9013 - val_loss: 0.2846 - val_accuracy: 0.9020\n",
            "Epoch 5/25\n",
            "1875/1875 [==============================] - 3s 1ms/step - loss: 0.2618 - accuracy: 0.9013 - val_loss: 0.2277 - val_accuracy: 0.9020\n",
            "Epoch 6/25\n",
            "1875/1875 [==============================] - 3s 1ms/step - loss: 0.1932 - accuracy: 0.9013 - val_loss: 0.1512 - val_accuracy: 0.9020\n",
            "Epoch 7/25\n",
            "1875/1875 [==============================] - 3s 1ms/step - loss: 0.1271 - accuracy: 0.9554 - val_loss: 0.0976 - val_accuracy: 0.9840\n",
            "Epoch 8/25\n",
            "1875/1875 [==============================] - 3s 1ms/step - loss: 0.0887 - accuracy: 0.9851 - val_loss: 0.0703 - val_accuracy: 0.9891\n",
            "Epoch 9/25\n",
            "1875/1875 [==============================] - 3s 1ms/step - loss: 0.0689 - accuracy: 0.9872 - val_loss: 0.0558 - val_accuracy: 0.9902\n",
            "Epoch 10/25\n",
            "1875/1875 [==============================] - 3s 2ms/step - loss: 0.0579 - accuracy: 0.9884 - val_loss: 0.0471 - val_accuracy: 0.9909\n",
            "Epoch 11/25\n",
            "1875/1875 [==============================] - 3s 1ms/step - loss: 0.0509 - accuracy: 0.9887 - val_loss: 0.0414 - val_accuracy: 0.9909\n",
            "Epoch 12/25\n",
            "1875/1875 [==============================] - 3s 1ms/step - loss: 0.0463 - accuracy: 0.9894 - val_loss: 0.0381 - val_accuracy: 0.9912\n",
            "Epoch 13/25\n",
            "1875/1875 [==============================] - 3s 1ms/step - loss: 0.0430 - accuracy: 0.9898 - val_loss: 0.0351 - val_accuracy: 0.9915\n",
            "Epoch 14/25\n",
            "1875/1875 [==============================] - 3s 1ms/step - loss: 0.0405 - accuracy: 0.9902 - val_loss: 0.0334 - val_accuracy: 0.9916\n",
            "Epoch 15/25\n",
            "1875/1875 [==============================] - 3s 1ms/step - loss: 0.0385 - accuracy: 0.9904 - val_loss: 0.0317 - val_accuracy: 0.9919\n",
            "Epoch 16/25\n",
            "1875/1875 [==============================] - 3s 1ms/step - loss: 0.0369 - accuracy: 0.9905 - val_loss: 0.0310 - val_accuracy: 0.9913\n",
            "Epoch 17/25\n",
            "1875/1875 [==============================] - 3s 1ms/step - loss: 0.0356 - accuracy: 0.9905 - val_loss: 0.0298 - val_accuracy: 0.9918\n",
            "Epoch 18/25\n",
            "1875/1875 [==============================] - 3s 1ms/step - loss: 0.0344 - accuracy: 0.9907 - val_loss: 0.0290 - val_accuracy: 0.9914\n",
            "Epoch 19/25\n",
            "1875/1875 [==============================] - 3s 1ms/step - loss: 0.0334 - accuracy: 0.9909 - val_loss: 0.0280 - val_accuracy: 0.9919\n",
            "Epoch 20/25\n",
            "1875/1875 [==============================] - 3s 1ms/step - loss: 0.0324 - accuracy: 0.9909 - val_loss: 0.0275 - val_accuracy: 0.9914\n",
            "Epoch 21/25\n",
            "1875/1875 [==============================] - 3s 1ms/step - loss: 0.0316 - accuracy: 0.9911 - val_loss: 0.0266 - val_accuracy: 0.9924\n",
            "Epoch 22/25\n",
            "1875/1875 [==============================] - 3s 1ms/step - loss: 0.0308 - accuracy: 0.9910 - val_loss: 0.0262 - val_accuracy: 0.9920\n",
            "Epoch 23/25\n",
            "1875/1875 [==============================] - 3s 1ms/step - loss: 0.0301 - accuracy: 0.9913 - val_loss: 0.0264 - val_accuracy: 0.9913\n",
            "Epoch 24/25\n",
            "1875/1875 [==============================] - 3s 1ms/step - loss: 0.0294 - accuracy: 0.9916 - val_loss: 0.0252 - val_accuracy: 0.9922\n",
            "Epoch 25/25\n",
            "1875/1875 [==============================] - 3s 1ms/step - loss: 0.0288 - accuracy: 0.9916 - val_loss: 0.0253 - val_accuracy: 0.9919\n"
          ],
          "name": "stdout"
        }
      ]
    },
    {
      "cell_type": "markdown",
      "metadata": {
        "colab_type": "text",
        "id": "FwlRJSfBlCvy"
      },
      "source": [
        "## Stretch Goals: \n",
        "\n",
        "- Make MNIST a multiclass problem using cross entropy & soft-max\n",
        "- Implement Cross Validation model evaluation on your MNIST implementation \n",
        "- Research different [Gradient Descent Based Optimizers](https://keras.io/optimizers/)\n",
        " - [Siraj Raval the evolution of gradient descent](https://www.youtube.com/watch?v=nhqo0u1a6fw)\n",
        "- Build a housing price estimation model using a neural network. How does its accuracy compare with the regression models that we fit earlier on in class?"
      ]
    }
  ]
}